{
 "cells": [
  {
   "cell_type": "code",
   "execution_count": 1,
   "metadata": {},
   "outputs": [],
   "source": [
    "from constants import *\n",
    "from TwoQubits import *\n",
    "from TwoQubitGates import *\n",
    "from helper_functions_2Qubits import *"
   ]
  },
  {
   "cell_type": "code",
   "execution_count": 2,
   "metadata": {},
   "outputs": [],
   "source": [
    "# define qubits q1 and q2\n",
    "qq = TwoQubits([0,0,-1],[0,0,-1])"
   ]
  },
  {
   "cell_type": "code",
   "execution_count": 3,
   "metadata": {},
   "outputs": [
    {
     "name": "stdout",
     "output_type": "stream",
     "text": [
      "[[0.25 0.   0.   0.  ]\n",
      " [0.   0.   0.   0.  ]\n",
      " [0.   0.   0.   0.  ]\n",
      " [0.   0.   0.   1.  ]]\n",
      "[[ 1.25+0.j  0.  +0.j  0.  +0.j  0.  +0.j]\n",
      " [ 0.  +0.j -0.75+0.j  0.  +0.j  0.  +0.j]\n",
      " [ 0.  +0.j  0.  +0.j -0.75+0.j  0.  +0.j]\n",
      " [ 0.  +0.j  0.  +0.j  0.  +0.j  1.25+0.j]]\n"
     ]
    }
   ],
   "source": [
    "print(qq.coef_matrix)\n",
    "print(qq.get_matrix())\n",
    "#operator_sum(qq.get_matrix(),[np.matrix([[1,0,0,0],[0,1,0,0],[0,0,1,0],[0,0,0,1]])])\n",
    "#get_rho_from_Pauli_basis(CNOTgate(qq.coef_matrix))"
   ]
  },
  {
   "cell_type": "code",
   "execution_count": 4,
   "metadata": {},
   "outputs": [
    {
     "name": "stdout",
     "output_type": "stream",
     "text": [
      "[[ 0.25  0.    0.    0.  ]\n",
      " [ 0.    0.    0.    0.  ]\n",
      " [-0.   -0.   -0.   -0.  ]\n",
      " [-0.   -0.   -0.   -1.  ]]\n"
     ]
    }
   ],
   "source": [
    "qq.set_Pauli_basis_matrix(X2_gate(qq.coef_matrix, 1))\n",
    "print(qq.coef_matrix)"
   ]
  },
  {
   "cell_type": "code",
   "execution_count": 5,
   "metadata": {},
   "outputs": [
    {
     "name": "stdout",
     "output_type": "stream",
     "text": [
      "[[ 0.25  0.    0.    0.  ]\n",
      " [-0.   -0.   -0.   -0.  ]\n",
      " [-0.   -0.   -0.   -0.  ]\n",
      " [ 0.    0.    0.    1.  ]]\n"
     ]
    }
   ],
   "source": [
    "qq.set_Pauli_basis_matrix(Y2_gate(qq.coef_matrix, 1))\n",
    "print(qq.coef_matrix)"
   ]
  },
  {
   "cell_type": "code",
   "execution_count": 6,
   "metadata": {},
   "outputs": [
    {
     "name": "stdout",
     "output_type": "stream",
     "text": [
      "[[0.25 0.   0.   0.  ]\n",
      " [0.   0.   0.   0.  ]\n",
      " [0.   0.   0.   0.  ]\n",
      " [0.   0.   0.   1.  ]]\n"
     ]
    }
   ],
   "source": [
    "qq.set_Pauli_basis_matrix(Z2_gate(qq.coef_matrix, 1))\n",
    "print(qq.coef_matrix)"
   ]
  },
  {
   "cell_type": "code",
   "execution_count": 7,
   "metadata": {},
   "outputs": [
    {
     "name": "stdout",
     "output_type": "stream",
     "text": [
      "[[0.25 0.   0.   0.  ]\n",
      " [0.   0.   0.   1.  ]\n",
      " [0.   0.   0.   0.  ]\n",
      " [0.   0.   0.   0.  ]]\n"
     ]
    }
   ],
   "source": [
    "qq.set_Pauli_basis_matrix(H2_gate(qq.coef_matrix, 1))\n",
    "print(qq.coef_matrix)"
   ]
  },
  {
   "cell_type": "code",
   "execution_count": 8,
   "metadata": {},
   "outputs": [
    {
     "name": "stdout",
     "output_type": "stream",
     "text": [
      "[[0.25 0.   0.   0.  ]\n",
      " [0.   0.   0.   0.  ]\n",
      " [0.   0.   0.   1.  ]\n",
      " [0.   0.   0.   0.  ]]\n"
     ]
    }
   ],
   "source": [
    "qq.set_Pauli_basis_matrix(S2_gate(qq.coef_matrix, 1))\n",
    "print(qq.coef_matrix)"
   ]
  },
  {
   "cell_type": "code",
   "execution_count": 9,
   "metadata": {},
   "outputs": [
    {
     "name": "stdout",
     "output_type": "stream",
     "text": [
      "[[ 0.25        0.          0.          0.        ]\n",
      " [ 0.          0.          0.         -0.70710678]\n",
      " [ 0.          0.          0.          0.70710678]\n",
      " [ 0.          0.          0.          0.        ]]\n"
     ]
    }
   ],
   "source": [
    "qq.set_Pauli_basis_matrix(T2_gate(qq.coef_matrix, 1))\n",
    "print(qq.coef_matrix)"
   ]
  },
  {
   "cell_type": "code",
   "execution_count": 10,
   "metadata": {},
   "outputs": [
    {
     "name": "stdout",
     "output_type": "stream",
     "text": [
      "[[0.25       0.         0.         0.        ]\n",
      " [0.         0.         0.70710678 0.        ]\n",
      " [0.         0.         0.70710678 0.        ]\n",
      " [0.         0.         0.         0.        ]]\n"
     ]
    }
   ],
   "source": [
    "qq.set_Pauli_basis_matrix(CNOTgate(qq.coef_matrix))\n",
    "print(qq.coef_matrix)"
   ]
  },
  {
   "cell_type": "code",
   "execution_count": 13,
   "metadata": {},
   "outputs": [
    {
     "name": "stdout",
     "output_type": "stream",
     "text": [
      "[[ 0.25        0.          0.          0.        ]\n",
      " [ 0.          0.70710678 -0.70710678  0.        ]\n",
      " [ 0.          0.          0.          0.        ]\n",
      " [ 0.          0.          0.          0.        ]]\n"
     ]
    }
   ],
   "source": [
    "qq.set_Pauli_basis_matrix(CZgate(qq.coef_matrix))\n",
    "print(qq.coef_matrix)"
   ]
  },
  {
   "cell_type": "code",
   "execution_count": 14,
   "metadata": {},
   "outputs": [
    {
     "name": "stdout",
     "output_type": "stream",
     "text": [
      "[[ 0.25        0.          0.          0.        ]\n",
      " [ 0.          0.70710678  0.          0.        ]\n",
      " [ 0.         -0.70710678  0.          0.        ]\n",
      " [ 0.          0.          0.          0.        ]]\n"
     ]
    }
   ],
   "source": [
    "qq.set_Pauli_basis_matrix(SWAPgate(qq.coef_matrix))\n",
    "print(qq.coef_matrix)"
   ]
  },
  {
   "cell_type": "code",
   "execution_count": null,
   "metadata": {},
   "outputs": [],
   "source": []
  }
 ],
 "metadata": {
  "kernelspec": {
   "display_name": "Python 3",
   "language": "python",
   "name": "python3"
  },
  "language_info": {
   "codemirror_mode": {
    "name": "ipython",
    "version": 3
   },
   "file_extension": ".py",
   "mimetype": "text/x-python",
   "name": "python",
   "nbconvert_exporter": "python",
   "pygments_lexer": "ipython3",
   "version": "3.7.6"
  }
 },
 "nbformat": 4,
 "nbformat_minor": 2
}
