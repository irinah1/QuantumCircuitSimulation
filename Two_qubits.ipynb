{
 "cells": [
  {
   "cell_type": "code",
   "execution_count": 1,
   "metadata": {},
   "outputs": [],
   "source": [
    "from constants import *\n",
    "from TwoQubits import *\n",
    "from TwoQubitGates import *\n",
    "from helper_functions_2Qubits import *"
   ]
  },
  {
   "cell_type": "code",
   "execution_count": 2,
   "metadata": {},
   "outputs": [],
   "source": [
    "# define qubits q1 and q2\n",
    "qq = TwoQubits([0,0,-1],[0,0,-1])"
   ]
  },
  {
   "cell_type": "code",
   "execution_count": 3,
   "metadata": {},
   "outputs": [
    {
     "name": "stdout",
     "output_type": "stream",
     "text": [
      "[[ 0.25  0.    0.   -0.25]\n",
      " [ 0.    0.    0.    0.  ]\n",
      " [ 0.    0.    0.    0.  ]\n",
      " [-0.25  0.    0.    0.25]]\n",
      "[[0.+0.j 0.+0.j 0.+0.j 0.+0.j]\n",
      " [0.+0.j 0.+0.j 0.+0.j 0.+0.j]\n",
      " [0.+0.j 0.+0.j 0.+0.j 0.+0.j]\n",
      " [0.+0.j 0.+0.j 0.+0.j 1.+0.j]]\n"
     ]
    }
   ],
   "source": [
    "print(qq.coef_matrix)\n",
    "print(qq.get_matrix())\n",
    "#operator_sum(qq.get_matrix(),[np.matrix([[1,0,0,0],[0,1,0,0],[0,0,1,0],[0,0,0,1]])])\n",
    "#get_rho_from_Pauli_basis(CNOTgate(qq.coef_matrix))"
   ]
  },
  {
   "cell_type": "code",
   "execution_count": 4,
   "metadata": {},
   "outputs": [
    {
     "name": "stdout",
     "output_type": "stream",
     "text": [
      "[[ 0.25  0.    0.   -0.25]\n",
      " [ 0.    0.    0.    0.  ]\n",
      " [-0.   -0.   -0.   -0.  ]\n",
      " [ 0.25 -0.   -0.   -0.25]]\n",
      "[[0.+0.j 0.+0.j 0.+0.j 0.+0.j]\n",
      " [0.+0.j 1.+0.j 0.+0.j 0.+0.j]\n",
      " [0.+0.j 0.+0.j 0.+0.j 0.+0.j]\n",
      " [0.+0.j 0.+0.j 0.+0.j 0.+0.j]]\n"
     ]
    }
   ],
   "source": [
    "qq.set_Pauli_basis_matrix(X2_gate(qq.coef_matrix, 1))\n",
    "print(qq.coef_matrix)\n",
    "print(qq.get_matrix())"
   ]
  },
  {
   "cell_type": "code",
   "execution_count": 5,
   "metadata": {},
   "outputs": [
    {
     "name": "stdout",
     "output_type": "stream",
     "text": [
      "[[ 0.25  0.    0.   -0.25]\n",
      " [-0.   -0.   -0.   -0.  ]\n",
      " [-0.   -0.   -0.   -0.  ]\n",
      " [-0.25  0.    0.    0.25]]\n"
     ]
    }
   ],
   "source": [
    "qq.set_Pauli_basis_matrix(Y2_gate(qq.coef_matrix, 1))\n",
    "print(qq.coef_matrix)"
   ]
  },
  {
   "cell_type": "code",
   "execution_count": 6,
   "metadata": {},
   "outputs": [
    {
     "name": "stdout",
     "output_type": "stream",
     "text": [
      "[[ 0.25  0.    0.   -0.25]\n",
      " [ 0.    0.    0.    0.  ]\n",
      " [ 0.    0.    0.    0.  ]\n",
      " [-0.25  0.    0.    0.25]]\n"
     ]
    }
   ],
   "source": [
    "qq.set_Pauli_basis_matrix(Z2_gate(qq.coef_matrix, 1))\n",
    "print(qq.coef_matrix)"
   ]
  },
  {
   "cell_type": "code",
   "execution_count": 7,
   "metadata": {},
   "outputs": [
    {
     "name": "stdout",
     "output_type": "stream",
     "text": [
      "[[ 0.25  0.    0.   -0.25]\n",
      " [-0.25  0.    0.    0.25]\n",
      " [ 0.    0.    0.    0.  ]\n",
      " [ 0.    0.    0.    0.  ]]\n"
     ]
    }
   ],
   "source": [
    "qq.set_Pauli_basis_matrix(H2_gate(qq.coef_matrix, 1))\n",
    "print(qq.coef_matrix)"
   ]
  },
  {
   "cell_type": "code",
   "execution_count": 8,
   "metadata": {},
   "outputs": [
    {
     "name": "stdout",
     "output_type": "stream",
     "text": [
      "[[ 0.25  0.    0.   -0.25]\n",
      " [ 0.    0.    0.    0.  ]\n",
      " [-0.25  0.    0.    0.25]\n",
      " [ 0.    0.    0.    0.  ]]\n"
     ]
    }
   ],
   "source": [
    "qq.set_Pauli_basis_matrix(S2_gate(qq.coef_matrix, 1))\n",
    "print(qq.coef_matrix)"
   ]
  },
  {
   "cell_type": "code",
   "execution_count": 9,
   "metadata": {},
   "outputs": [
    {
     "name": "stdout",
     "output_type": "stream",
     "text": [
      "[[ 0.25     +1.26831704e-18j  0.       +0.00000000e+00j\n",
      "   0.       +0.00000000e+00j -0.25     -1.26831704e-18j]\n",
      " [ 0.1767767+0.00000000e+00j  0.       +0.00000000e+00j\n",
      "   0.       +0.00000000e+00j -0.1767767+0.00000000e+00j]\n",
      " [-0.1767767+0.00000000e+00j  0.       +0.00000000e+00j\n",
      "   0.       +0.00000000e+00j  0.1767767+0.00000000e+00j]\n",
      " [ 0.       -1.26831704e-18j  0.       +0.00000000e+00j\n",
      "   0.       +0.00000000e+00j  0.       +1.26831704e-18j]]\n"
     ]
    }
   ],
   "source": [
    "qq.set_Pauli_basis_matrix(T2_gate(qq.coef_matrix, 1))\n",
    "print(qq.coef_matrix)"
   ]
  },
  {
   "cell_type": "code",
   "execution_count": 10,
   "metadata": {},
   "outputs": [
    {
     "name": "stdout",
     "output_type": "stream",
     "text": [
      "[[ 0.25     +1.26831704e-18j  0.       +0.00000000e+00j\n",
      "   0.       +0.00000000e+00j  0.       +1.26831704e-18j]\n",
      " [ 0.       +0.00000000e+00j  0.1767767+0.00000000e+00j\n",
      "   0.1767767+0.00000000e+00j  0.       +0.00000000e+00j]\n",
      " [ 0.       +0.00000000e+00j -0.1767767+0.00000000e+00j\n",
      "   0.1767767+0.00000000e+00j  0.       +0.00000000e+00j]\n",
      " [ 0.       -1.26831704e-18j  0.       +0.00000000e+00j\n",
      "   0.       +0.00000000e+00j -0.25     -1.26831704e-18j]]\n"
     ]
    }
   ],
   "source": [
    "qq.set_Pauli_basis_matrix(CNOTgate(qq.coef_matrix))\n",
    "print(qq.coef_matrix)"
   ]
  },
  {
   "cell_type": "code",
   "execution_count": 11,
   "metadata": {},
   "outputs": [
    {
     "name": "stdout",
     "output_type": "stream",
     "text": [
      "[[ 0.25     +1.26831704e-18j  0.       +0.00000000e+00j\n",
      "   0.       +0.00000000e+00j  0.       +1.26831704e-18j]\n",
      " [ 0.       +0.00000000e+00j  0.1767767+0.00000000e+00j\n",
      "   0.1767767+0.00000000e+00j  0.       +0.00000000e+00j]\n",
      " [ 0.       +0.00000000e+00j -0.1767767+0.00000000e+00j\n",
      "   0.1767767+0.00000000e+00j  0.       +0.00000000e+00j]\n",
      " [ 0.       -1.26831704e-18j  0.       +0.00000000e+00j\n",
      "   0.       +0.00000000e+00j -0.25     -1.26831704e-18j]]\n"
     ]
    }
   ],
   "source": [
    "qq.set_Pauli_basis_matrix(CZgate(qq.coef_matrix))\n",
    "print(qq.coef_matrix)"
   ]
  },
  {
   "cell_type": "code",
   "execution_count": 12,
   "metadata": {},
   "outputs": [
    {
     "name": "stdout",
     "output_type": "stream",
     "text": [
      "[[ 0.25     +1.26831704e-18j  0.       +0.00000000e+00j\n",
      "   0.       +0.00000000e+00j  0.       -1.26831704e-18j]\n",
      " [ 0.       +0.00000000e+00j  0.1767767+0.00000000e+00j\n",
      "  -0.1767767+0.00000000e+00j  0.       +0.00000000e+00j]\n",
      " [ 0.       +0.00000000e+00j  0.1767767+0.00000000e+00j\n",
      "   0.1767767+0.00000000e+00j  0.       +0.00000000e+00j]\n",
      " [ 0.       +1.26831704e-18j  0.       +0.00000000e+00j\n",
      "   0.       +0.00000000e+00j -0.25     -1.26831704e-18j]]\n"
     ]
    }
   ],
   "source": [
    "qq.set_Pauli_basis_matrix(SWAPgate(qq.coef_matrix))\n",
    "print(qq.coef_matrix)\n",
    "#print(qq.get_matrix())"
   ]
  },
  {
   "cell_type": "code",
   "execution_count": 13,
   "metadata": {},
   "outputs": [
    {
     "name": "stdout",
     "output_type": "stream",
     "text": [
      "[[ 0.25      +1.26831704e-18j  0.        +0.00000000e+00j\n",
      "   0.        +0.00000000e+00j  0.00609632-1.20646049e-18j]\n",
      " [ 0.        +0.00000000e+00j  0.17246594+0.00000000e+00j\n",
      "  -0.17246594+0.00000000e+00j  0.        +0.00000000e+00j]\n",
      " [ 0.        +0.00000000e+00j  0.17246594+0.00000000e+00j\n",
      "   0.17246594+0.00000000e+00j  0.        +0.00000000e+00j]\n",
      " [ 0.00609632+1.26831704e-18j  0.        +0.00000000e+00j\n",
      "   0.        +0.00000000e+00j -0.23780736-1.20646049e-18j]]\n",
      "[[0.02438529+1.23713104e-19j 0.        +0.00000000e+00j\n",
      "  0.        +0.00000000e+00j 0.        +0.00000000e+00j]\n",
      " [0.        +0.00000000e+00j 0.48780736+4.94955507e-18j\n",
      "  0.34493189-3.44931889e-01j 0.        +0.00000000e+00j]\n",
      " [0.        +0.00000000e+00j 0.34493189+3.44931889e-01j\n",
      "  0.48780736+0.00000000e+00j 0.        +0.00000000e+00j]\n",
      " [0.        +0.00000000e+00j 0.        +0.00000000e+00j\n",
      "  0.        +0.00000000e+00j 0.        +0.00000000e+00j]]\n"
     ]
    }
   ],
   "source": [
    "qq.set_Pauli_basis_matrix(individual_amplitude_damping(qq.coef_matrix, 0.005, 10))\n",
    "print(qq.coef_matrix)\n",
    "print(qq.get_matrix())#[0,0], qq.get_matrix()[1,1], qq.get_matrix()[2,2], qq.get_matrix()[3,3])"
   ]
  },
  {
   "cell_type": "code",
   "execution_count": 14,
   "metadata": {},
   "outputs": [
    {
     "name": "stdout",
     "output_type": "stream",
     "text": [
      "[[ 0.25      +1.26831704e-18j  0.        +0.00000000e+00j\n",
      "   0.        +0.00000000e+00j  0.00609632-1.20646049e-18j]\n",
      " [ 0.        +0.00000000e+00j  0.17246594+0.00000000e+00j\n",
      "  -0.17246594+0.00000000e+00j  0.        +0.00000000e+00j]\n",
      " [ 0.        +0.00000000e+00j  0.17246594+0.00000000e+00j\n",
      "   0.17246594+0.00000000e+00j  0.        +0.00000000e+00j]\n",
      " [ 0.00609632+1.26831704e-18j  0.        +0.00000000e+00j\n",
      "   0.        +0.00000000e+00j -0.23780736-1.20646049e-18j]]\n"
     ]
    }
   ],
   "source": [
    "qq.set_Pauli_basis_matrix(fully_correlated_amplitude_damping(qq.coef_matrix, 0.005, 100))\n",
    "print(qq.coef_matrix)\n",
    "#print(qq.get_matrix())"
   ]
  },
  {
   "cell_type": "code",
   "execution_count": 15,
   "metadata": {},
   "outputs": [
    {
     "name": "stdout",
     "output_type": "stream",
     "text": [
      "[[ 0.25      +1.26831704e-18j  0.        +0.00000000e+00j\n",
      "   0.        +0.00000000e+00j  0.00609632-1.20646049e-18j]\n",
      " [ 0.        +0.00000000e+00j  0.16425979+0.00000000e+00j\n",
      "  -0.16425979+0.00000000e+00j  0.        +0.00000000e+00j]\n",
      " [ 0.        +0.00000000e+00j  0.16425979+0.00000000e+00j\n",
      "   0.16425979+0.00000000e+00j  0.        +0.00000000e+00j]\n",
      " [ 0.00609632+1.26831704e-18j  0.        +0.00000000e+00j\n",
      "   0.        +0.00000000e+00j -0.23780736-1.20646049e-18j]]\n"
     ]
    }
   ],
   "source": [
    "qq.set_Pauli_basis_matrix(individual_phase_damping(qq.coef_matrix, 0.005, 10))\n",
    "print(qq.coef_matrix)"
   ]
  },
  {
   "cell_type": "code",
   "execution_count": 16,
   "metadata": {},
   "outputs": [
    {
     "name": "stdout",
     "output_type": "stream",
     "text": [
      "[[ 0.25      +1.26831704e-18j  0.        +0.00000000e+00j\n",
      "   0.        +0.00000000e+00j  0.00609632-1.20646049e-18j]\n",
      " [ 0.        +0.00000000e+00j  0.16425979+0.00000000e+00j\n",
      "  -0.16425979+0.00000000e+00j  0.        +0.00000000e+00j]\n",
      " [ 0.        +0.00000000e+00j  0.16425979+0.00000000e+00j\n",
      "   0.16425979+0.00000000e+00j  0.        +0.00000000e+00j]\n",
      " [ 0.00609632+1.26831704e-18j  0.        +0.00000000e+00j\n",
      "   0.        +0.00000000e+00j -0.23780736-1.20646049e-18j]]\n"
     ]
    }
   ],
   "source": [
    "qq.set_Pauli_basis_matrix(fully_correlated_phase_damping(qq.coef_matrix, 0.005, 100))\n",
    "print(qq.coef_matrix)"
   ]
  },
  {
   "cell_type": "code",
   "execution_count": 17,
   "metadata": {},
   "outputs": [
    {
     "name": "stdout",
     "output_type": "stream",
     "text": [
      "[[ 0.25      +1.26831704e-18j  0.        +0.00000000e+00j\n",
      "   0.        +0.00000000e+00j  0.00609632-1.20646049e-18j]\n",
      " [ 0.        +0.00000000e+00j  0.1609746 +0.00000000e+00j\n",
      "  -0.1609746 +0.00000000e+00j  0.        +0.00000000e+00j]\n",
      " [ 0.        +0.00000000e+00j  0.1609746 +0.00000000e+00j\n",
      "   0.1609746 +0.00000000e+00j  0.        +0.00000000e+00j]\n",
      " [ 0.00609632+1.26831704e-18j  0.        +0.00000000e+00j\n",
      "   0.        +0.00000000e+00j -0.23780736-1.20646049e-18j]]\n"
     ]
    }
   ],
   "source": [
    "qq.set_Pauli_basis_matrix(individual_phase_flip(qq.coef_matrix, 0.01))\n",
    "print(qq.coef_matrix)"
   ]
  },
  {
   "cell_type": "code",
   "execution_count": 18,
   "metadata": {},
   "outputs": [
    {
     "name": "stdout",
     "output_type": "stream",
     "text": [
      "[[ 0.25      +1.26831704e-18j  0.        +0.00000000e+00j\n",
      "   0.        +0.00000000e+00j  0.00609632-1.20646049e-18j]\n",
      " [ 0.        +0.00000000e+00j  0.1609746 +0.00000000e+00j\n",
      "  -0.1609746 +0.00000000e+00j  0.        +0.00000000e+00j]\n",
      " [ 0.        +0.00000000e+00j  0.1609746 +0.00000000e+00j\n",
      "   0.1609746 +0.00000000e+00j  0.        +0.00000000e+00j]\n",
      " [ 0.00609632+1.26831704e-18j  0.        +0.00000000e+00j\n",
      "   0.        +0.00000000e+00j -0.23780736-1.20646049e-18j]]\n"
     ]
    }
   ],
   "source": [
    "qq.set_Pauli_basis_matrix(fully_correlated_phase_flip(qq.coef_matrix, 0.01))\n",
    "print(qq.coef_matrix)"
   ]
  },
  {
   "cell_type": "code",
   "execution_count": null,
   "metadata": {},
   "outputs": [],
   "source": []
  }
 ],
 "metadata": {
  "kernelspec": {
   "display_name": "Python 3",
   "language": "python",
   "name": "python3"
  },
  "language_info": {
   "codemirror_mode": {
    "name": "ipython",
    "version": 3
   },
   "file_extension": ".py",
   "mimetype": "text/x-python",
   "name": "python",
   "nbconvert_exporter": "python",
   "pygments_lexer": "ipython3",
   "version": "3.7.6"
  }
 },
 "nbformat": 4,
 "nbformat_minor": 2
}
