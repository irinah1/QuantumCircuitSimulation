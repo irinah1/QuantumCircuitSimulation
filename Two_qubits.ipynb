{
 "cells": [
  {
   "cell_type": "code",
   "execution_count": 1,
   "metadata": {},
   "outputs": [],
   "source": [
    "from constants import *\n",
    "from TwoQubits import *"
   ]
  },
  {
   "cell_type": "code",
   "execution_count": 8,
   "metadata": {},
   "outputs": [],
   "source": [
    "# define qubits q1 and q2\n",
    "qq = TwoQubits([0,0,-1],[0,0,-1])"
   ]
  },
  {
   "cell_type": "code",
   "execution_count": 9,
   "metadata": {},
   "outputs": [
    {
     "data": {
      "text/plain": [
       "matrix([[0.+0.j, 0.+0.j, 0.+0.j, 0.+0.j],\n",
       "        [0.+0.j, 0.+0.j, 0.+0.j, 0.+0.j],\n",
       "        [0.+0.j, 0.+0.j, 0.+0.j, 0.+0.j],\n",
       "        [0.+0.j, 0.+0.j, 0.+0.j, 1.+0.j]])"
      ]
     },
     "execution_count": 9,
     "metadata": {},
     "output_type": "execute_result"
    }
   ],
   "source": [
    "qq.get_matrix()"
   ]
  },
  {
   "cell_type": "code",
   "execution_count": 40,
   "metadata": {},
   "outputs": [],
   "source": [
    "class TwoQubits:\n",
    "    \"\"\"\n",
    "    input:\n",
    "    \n",
    "    a1, b1:    |psi_1> = a1*|0> + b1*|1>\n",
    "    a2, b2:    |psi_2> = a2*|0> + b2*|1>\n",
    "    \n",
    "    gamma1:  longitudinal relaxation rate 1/T1  (T1: relaxation time)\n",
    "    gamma2:  transversal relaxation rate 1/T2 = gamma1/1 + gamma_phi (T2: relaxation time, gamma_phi: pure dephasing rate)\n",
    "    dw:      frequency shift dw = wq - wd (wq: qubit frequency, wd: rotating frame frequency)\n",
    "    \"\"\"\n",
    "    def __init__(self, a1, b1, a2, b2, gamma1, gamma2, dw):\n",
    "        if (a1**2+b1**2 != 1):\n",
    "            a1 = np.real(a1/(a1**2+b1**2)) + 1j*np.imag(a1/(a1**2+b1**2))\n",
    "            b1 = np.real(b1/(a1**2+b1**2)) + 1j*np.imag(b1/(a1**2+b1**2))\n",
    "            print(\"Mind that wavefunction |psi_1> = a1*|0> + b1*|1> should be normed a1^2 + b1^2 = 1. \"\n",
    "                  \"Parameters were scaled: \\na = {} \\nb = {}\".format(a1, b1))\n",
    "        if (a2**2+b2**2 != 1):\n",
    "            a2 = np.real(a2/(a2**2+b2**2)) + 1j*np.imag(a2/(a2**2+b2**2))\n",
    "            b2 = np.real(b2/(a2**2+b2**2)) + 1j*np.imag(b2/(a2**2+b2**2))\n",
    "            print(\"Mind that wavefunction |psi_2> = a2*|0> + b2*|1> should be normed a2^2 + b2^2 = 1. \"\n",
    "                  \"Parameters were scaled: \\na = {} \\nb = {}\".format(a2, b2))\n",
    "        \n",
    "        c1 = a1*a2\n",
    "        c2 = a1*b2\n",
    "        c3 = b1*a2\n",
    "        c4 = b1*b2\n",
    "        \n",
    "        if (c1**2 + c2**2 + c3**2 + c4**2 != 1):\n",
    "            c1 = c1/(c1**2 + c2**2 + c3**2 + c4**2)\n",
    "            c2 = c2/(c1**2 + c2**2 + c3**2 + c4**2)\n",
    "            c3 = c3/(c1**2 + c2**2 + c3**2 + c4**2)\n",
    "            c4 = c4/(c1**2 + c2**2 + c3**2 + c4**2)\n",
    "        \n",
    "        vec = np.matrix([c1,c2,c3,c4]).T\n",
    "        # a1 a1* a2 a2*   a1 a1* a2 b2*   a1 b1* a2 a2*   a1 b1* a2 b2*\n",
    "        # a1 a1* b2 a2*   a1 a1* b2 b2*   a1 b1* b2 a2*   a1 b1* b2 b2*\n",
    "        # b1 a1* a2 a2*   b1 a1* a2 b2*   b1 b1* a2 a2*   b1 b1* a2 b2*\n",
    "        # b1 a1* b2 a2*   b1 a1* b2 b2*   b1 b1* b2 a2*   b1 b1* b2 b2*\n",
    "        \n",
    "        # m11 n11   m11 n12   m12 n11   m12 m12\n",
    "        # m11 n21   m11 n22   m12 n21   m12 n22\n",
    "        # m21 n11   m21 n12   m22 n11   m22 n12\n",
    "        # m21 n21   m21 n22   m11 n21   m22 n22\n",
    "        \n",
    "        # a a*  a b* =  m11 m12\n",
    "        # a* b  b b*    m21 m22\n",
    "        \n",
    "        self.matrix = vec*vec.H\n",
    "        \n",
    "        self.G1 = gamma1\n",
    "        self.G2 = gamma2\n",
    "        self.dw = dw\n",
    "        \n",
    "        print(self.matrix)\n",
    "    \n",
    "                     \n",
    "    # ?????\n",
    "                     \n",
    "    def propagate(self, t):\n",
    "        # t: time (in seconds)\n",
    "        self.matrix = np.matrix([[1+(self.matrix[0,0]-1)*np.exp(-self.G1*t), self.matrix[0,1]*np.exp(1j*self.dw*t)*np.exp(-self.G2*t)],\n",
    "                  [self.matrix[1,0]*np.exp(-1j*self.dw*t)*np.exp(-self.G2*t), self.matrix[1,1]*np.exp(-self.G1*t)]])\n",
    "    \n",
    "    def get_matrix(self):\n",
    "        return self.matrix\n",
    "    \n",
    "    def _set_matrix(self, matrix):\n",
    "        if type(matrix)!=np.matrix:\n",
    "            print(\"Input must be of type numpy.matrix\")\n",
    "        self.matrix = matrix\n",
    "        \n",
    "    def get_Bloch_vector(self):\n",
    "        x = np.real(2*self.matrix[0,1])\n",
    "        y = -np.imag(2*self.matrix[0,1])\n",
    "        z = np.real(2*self.matrix[0,0]-1)\n",
    "        return x,y,z\n",
    "    "
   ]
  },
  {
   "cell_type": "code",
   "execution_count": 41,
   "metadata": {},
   "outputs": [
    {
     "name": "stdout",
     "output_type": "stream",
     "text": [
      "Mind that wavefunction |psi_1> = a1*|0> + b1*|1> should be normed a1^2 + b1^2 = 1. Parameters were scaled: \n",
      "a = (0.7071067811865476+0j) \n",
      "b = (0.7071067811865475+0j)\n",
      "Mind that wavefunction |psi_2> = a2*|0> + b2*|1> should be normed a2^2 + b2^2 = 1. Parameters were scaled: \n",
      "a = (0.7071067811865476+0j) \n",
      "b = (0.7071067811865475+0j)\n",
      "[[0.25+0.j 0.25+0.j 0.25+0.j 0.25+0.j]\n",
      " [0.25+0.j 0.25+0.j 0.25+0.j 0.25+0.j]\n",
      " [0.25+0.j 0.25+0.j 0.25+0.j 0.25+0.j]\n",
      " [0.25+0.j 0.25+0.j 0.25+0.j 0.25+0.j]]\n"
     ]
    }
   ],
   "source": [
    "q1 = TwoQubits(1/np.sqrt(2), 1/np.sqrt(2), 1/np.sqrt(2), 1/np.sqrt(2), 2, 3, 0)"
   ]
  },
  {
   "cell_type": "code",
   "execution_count": 25,
   "metadata": {},
   "outputs": [],
   "source": [
    "import numpy as np"
   ]
  },
  {
   "cell_type": "code",
   "execution_count": 27,
   "metadata": {},
   "outputs": [
    {
     "data": {
      "text/plain": [
       "matrix([[1.+0.j, 0.-1.j, 2.+0.j, 0.+0.j],\n",
       "        [0.+1.j, 1.+0.j, 0.+2.j, 0.+0.j],\n",
       "        [2.+0.j, 0.-2.j, 4.+0.j, 0.+0.j],\n",
       "        [0.+0.j, 0.+0.j, 0.+0.j, 0.+0.j]])"
      ]
     },
     "execution_count": 27,
     "metadata": {},
     "output_type": "execute_result"
    }
   ],
   "source": [
    "vec1*vec1.H"
   ]
  },
  {
   "cell_type": "code",
   "execution_count": null,
   "metadata": {},
   "outputs": [],
   "source": [
    "np.matrix([c1,c2,c3,c4])"
   ]
  }
 ],
 "metadata": {
  "kernelspec": {
   "display_name": "Python [conda env:root]",
   "language": "python",
   "name": "conda-root-py"
  },
  "language_info": {
   "codemirror_mode": {
    "name": "ipython",
    "version": 3
   },
   "file_extension": ".py",
   "mimetype": "text/x-python",
   "name": "python",
   "nbconvert_exporter": "python",
   "pygments_lexer": "ipython3",
   "version": "3.7.6"
  }
 },
 "nbformat": 4,
 "nbformat_minor": 2
}
