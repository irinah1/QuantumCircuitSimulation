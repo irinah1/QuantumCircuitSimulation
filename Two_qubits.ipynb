{
 "cells": [
  {
   "cell_type": "code",
   "execution_count": 1,
   "metadata": {},
   "outputs": [],
   "source": [
    "from constants import *\n",
    "from TwoQubits import *\n",
    "from TwoQubitGates import *\n",
    "from helper_functions_2Qubits import *"
   ]
  },
  {
   "cell_type": "code",
   "execution_count": 2,
   "metadata": {},
   "outputs": [],
   "source": [
    "# define qubits q1 and q2\n",
    "qq = TwoQubits([0,0,-1],[0,0,-1])"
   ]
  },
  {
   "cell_type": "code",
   "execution_count": 3,
   "metadata": {},
   "outputs": [
    {
     "name": "stdout",
     "output_type": "stream",
     "text": [
      "[[0.25 0.   0.   0.  ]\n",
      " [0.   0.   0.   0.  ]\n",
      " [0.   0.   0.   0.  ]\n",
      " [0.   0.   0.   1.  ]]\n",
      "[[ 1.25+0.j  0.  +0.j  0.  +0.j  0.  +0.j]\n",
      " [ 0.  +0.j -0.75+0.j  0.  +0.j  0.  +0.j]\n",
      " [ 0.  +0.j  0.  +0.j -0.75+0.j  0.  +0.j]\n",
      " [ 0.  +0.j  0.  +0.j  0.  +0.j  1.25+0.j]]\n"
     ]
    }
   ],
   "source": [
    "print(qq.coef_matrix)\n",
    "print(qq.get_matrix())\n",
    "#operator_sum(qq.get_matrix(),[np.matrix([[1,0,0,0],[0,1,0,0],[0,0,1,0],[0,0,0,1]])])\n",
    "#get_rho_from_Pauli_basis(CNOTgate(qq.coef_matrix))"
   ]
  },
  {
   "cell_type": "code",
   "execution_count": 4,
   "metadata": {},
   "outputs": [
    {
     "name": "stdout",
     "output_type": "stream",
     "text": [
      "[[ 0.25  0.    0.    0.  ]\n",
      " [ 0.    0.    0.    0.  ]\n",
      " [-0.   -0.   -0.   -0.  ]\n",
      " [-0.   -0.   -0.   -1.  ]]\n",
      "[[-0.75+0.j  0.  +0.j  0.  +0.j  0.  +0.j]\n",
      " [ 0.  +0.j  1.25+0.j  0.  +0.j  0.  +0.j]\n",
      " [ 0.  +0.j  0.  +0.j  1.25+0.j  0.  +0.j]\n",
      " [ 0.  +0.j  0.  +0.j  0.  +0.j -0.75+0.j]]\n"
     ]
    }
   ],
   "source": [
    "qq.set_Pauli_basis_matrix(X2_gate(qq.coef_matrix, 1))\n",
    "print(qq.coef_matrix)\n",
    "print(qq.get_matrix())"
   ]
  },
  {
   "cell_type": "code",
   "execution_count": 5,
   "metadata": {},
   "outputs": [
    {
     "name": "stdout",
     "output_type": "stream",
     "text": [
      "[[ 0.25  0.    0.    0.  ]\n",
      " [-0.   -0.   -0.   -0.  ]\n",
      " [-0.   -0.   -0.   -0.  ]\n",
      " [ 0.    0.    0.    1.  ]]\n"
     ]
    }
   ],
   "source": [
    "qq.set_Pauli_basis_matrix(Y2_gate(qq.coef_matrix, 1))\n",
    "print(qq.coef_matrix)"
   ]
  },
  {
   "cell_type": "code",
   "execution_count": 6,
   "metadata": {},
   "outputs": [
    {
     "name": "stdout",
     "output_type": "stream",
     "text": [
      "[[0.25 0.   0.   0.  ]\n",
      " [0.   0.   0.   0.  ]\n",
      " [0.   0.   0.   0.  ]\n",
      " [0.   0.   0.   1.  ]]\n"
     ]
    }
   ],
   "source": [
    "qq.set_Pauli_basis_matrix(Z2_gate(qq.coef_matrix, 1))\n",
    "print(qq.coef_matrix)"
   ]
  },
  {
   "cell_type": "code",
   "execution_count": 7,
   "metadata": {},
   "outputs": [
    {
     "name": "stdout",
     "output_type": "stream",
     "text": [
      "[[0.25 0.   0.   0.  ]\n",
      " [0.   0.   0.   1.  ]\n",
      " [0.   0.   0.   0.  ]\n",
      " [0.   0.   0.   0.  ]]\n"
     ]
    }
   ],
   "source": [
    "qq.set_Pauli_basis_matrix(H2_gate(qq.coef_matrix, 1))\n",
    "print(qq.coef_matrix)"
   ]
  },
  {
   "cell_type": "code",
   "execution_count": 8,
   "metadata": {},
   "outputs": [
    {
     "name": "stdout",
     "output_type": "stream",
     "text": [
      "[[0.25 0.   0.   0.  ]\n",
      " [0.   0.   0.   0.  ]\n",
      " [0.   0.   0.   1.  ]\n",
      " [0.   0.   0.   0.  ]]\n"
     ]
    }
   ],
   "source": [
    "qq.set_Pauli_basis_matrix(S2_gate(qq.coef_matrix, 1))\n",
    "print(qq.coef_matrix)"
   ]
  },
  {
   "cell_type": "code",
   "execution_count": 9,
   "metadata": {},
   "outputs": [
    {
     "name": "stdout",
     "output_type": "stream",
     "text": [
      "[[ 0.25        0.          0.          0.        ]\n",
      " [ 0.          0.          0.         -0.70710678]\n",
      " [ 0.          0.          0.          0.70710678]\n",
      " [ 0.          0.          0.          0.        ]]\n"
     ]
    }
   ],
   "source": [
    "qq.set_Pauli_basis_matrix(T2_gate(qq.coef_matrix, 1))\n",
    "print(qq.coef_matrix)"
   ]
  },
  {
   "cell_type": "code",
   "execution_count": 10,
   "metadata": {},
   "outputs": [
    {
     "name": "stdout",
     "output_type": "stream",
     "text": [
      "[[0.25       0.         0.         0.        ]\n",
      " [0.         0.         0.70710678 0.        ]\n",
      " [0.         0.         0.70710678 0.        ]\n",
      " [0.         0.         0.         0.        ]]\n"
     ]
    }
   ],
   "source": [
    "qq.set_Pauli_basis_matrix(CNOTgate(qq.coef_matrix))\n",
    "print(qq.coef_matrix)"
   ]
  },
  {
   "cell_type": "code",
   "execution_count": 11,
   "metadata": {},
   "outputs": [
    {
     "name": "stdout",
     "output_type": "stream",
     "text": [
      "[[ 0.25        0.          0.          0.        ]\n",
      " [ 0.          0.70710678  0.          0.        ]\n",
      " [ 0.         -0.70710678  0.          0.        ]\n",
      " [ 0.          0.          0.          0.        ]]\n"
     ]
    }
   ],
   "source": [
    "qq.set_Pauli_basis_matrix(CZgate(qq.coef_matrix))\n",
    "print(qq.coef_matrix)"
   ]
  },
  {
   "cell_type": "code",
   "execution_count": 12,
   "metadata": {},
   "outputs": [
    {
     "name": "stdout",
     "output_type": "stream",
     "text": [
      "[[ 0.25        0.          0.          0.        ]\n",
      " [ 0.          0.70710678 -0.70710678  0.        ]\n",
      " [ 0.          0.          0.          0.        ]\n",
      " [ 0.          0.          0.          0.        ]]\n",
      "[[0.25      +0.j         0.        +0.j         0.        +0.j\n",
      "  0.70710678+0.70710678j]\n",
      " [0.        +0.j         0.25      +0.j         0.70710678-0.70710678j\n",
      "  0.        +0.j        ]\n",
      " [0.        +0.j         0.70710678+0.70710678j 0.25      +0.j\n",
      "  0.        +0.j        ]\n",
      " [0.70710678-0.70710678j 0.        +0.j         0.        +0.j\n",
      "  0.25      +0.j        ]]\n"
     ]
    }
   ],
   "source": [
    "qq.set_Pauli_basis_matrix(SWAPgate(qq.coef_matrix))\n",
    "print(qq.coef_matrix)\n",
    "print(qq.get_matrix())"
   ]
  },
  {
   "cell_type": "code",
   "execution_count": 13,
   "metadata": {},
   "outputs": [
    {
     "name": "stdout",
     "output_type": "stream",
     "text": [
      "[[ 2.50000000e-01  0.00000000e+00  0.00000000e+00  6.09632194e-03]\n",
      " [ 0.00000000e+00  6.89756016e-01 -6.89756016e-01  0.00000000e+00]\n",
      " [ 0.00000000e+00  1.07763152e-04  1.07763152e-04  0.00000000e+00]\n",
      " [ 6.09632194e-03  0.00000000e+00  0.00000000e+00  6.93889390e-18]]\n",
      "[[0.26219264+0.j         0.        +0.j         0.        +0.j\n",
      "  0.68964825+0.68964825j]\n",
      " [0.        +0.j         0.25      +0.j         0.68986378-0.68986378j\n",
      "  0.        +0.j        ]\n",
      " [0.        +0.j         0.68986378+0.68986378j 0.25      +0.j\n",
      "  0.        +0.j        ]\n",
      " [0.68964825-0.68964825j 0.        +0.j         0.        +0.j\n",
      "  0.23780736+0.j        ]]\n"
     ]
    }
   ],
   "source": [
    "qq.set_Pauli_basis_matrix(individual_amplitude_damping(qq.coef_matrix, 0.005, 10))\n",
    "print(qq.coef_matrix)\n",
    "print(qq.get_matrix())#[0,0], qq.get_matrix()[1,1], qq.get_matrix()[2,2], qq.get_matrix()[3,3])"
   ]
  },
  {
   "cell_type": "code",
   "execution_count": 14,
   "metadata": {},
   "outputs": [
    {
     "name": "stdout",
     "output_type": "stream",
     "text": [
      "[[ 2.50000000e-01  0.00000000e+00  0.00000000e+00  2.45047660e-02]\n",
      " [ 0.00000000e+00  6.61941722e-01 -6.61941722e-01  0.00000000e+00]\n",
      " [ 0.00000000e+00  2.79220568e-02  2.79220568e-02  0.00000000e+00]\n",
      " [ 2.45047660e-02  0.00000000e+00  0.00000000e+00  6.93889390e-18]]\n"
     ]
    }
   ],
   "source": [
    "qq.set_Pauli_basis_matrix(fully_correlated_amplitude_damping(qq.coef_matrix, 0.005, 100))\n",
    "print(qq.coef_matrix)\n",
    "#print(qq.get_matrix())"
   ]
  },
  {
   "cell_type": "code",
   "execution_count": 15,
   "metadata": {},
   "outputs": [
    {
     "name": "stdout",
     "output_type": "stream",
     "text": [
      "[[ 0.25        0.          0.          0.02450477]\n",
      " [ 0.          0.63006867 -0.63006867  0.        ]\n",
      " [ 0.          0.0269705   0.0269705   0.        ]\n",
      " [ 0.02450477  0.          0.          0.        ]]\n"
     ]
    }
   ],
   "source": [
    "qq.set_Pauli_basis_matrix(individual_phase_damping(qq.coef_matrix, 0.005, 10))\n",
    "print(qq.coef_matrix)"
   ]
  },
  {
   "cell_type": "code",
   "execution_count": 16,
   "metadata": {},
   "outputs": [
    {
     "name": "stdout",
     "output_type": "stream",
     "text": [
      "[[ 2.50000000e-01  0.00000000e+00  0.00000000e+00  2.45047660e-02]\n",
      " [ 0.00000000e+00  5.62180937e-01 -5.62180937e-01  0.00000000e+00]\n",
      " [ 0.00000000e+00  9.48582327e-02  9.48582327e-02  0.00000000e+00]\n",
      " [ 2.45047660e-02  0.00000000e+00  0.00000000e+00  6.93889390e-18]]\n"
     ]
    }
   ],
   "source": [
    "qq.set_Pauli_basis_matrix(fully_correlated_phase_damping(qq.coef_matrix, 0.005, 100))\n",
    "print(qq.coef_matrix)"
   ]
  },
  {
   "cell_type": "code",
   "execution_count": 17,
   "metadata": {},
   "outputs": [
    {
     "name": "stdout",
     "output_type": "stream",
     "text": [
      "[[ 0.25        0.          0.          0.02450477]\n",
      " [ 0.          0.55093732 -0.55093732  0.        ]\n",
      " [ 0.          0.09296107  0.09296107  0.        ]\n",
      " [ 0.02450477  0.          0.          0.        ]]\n"
     ]
    }
   ],
   "source": [
    "qq.set_Pauli_basis_matrix(individual_phase_flip(qq.coef_matrix, 0.01))\n",
    "print(qq.coef_matrix)"
   ]
  },
  {
   "cell_type": "code",
   "execution_count": 18,
   "metadata": {},
   "outputs": [
    {
     "name": "stdout",
     "output_type": "stream",
     "text": [
      "[[ 2.50000000e-01  0.00000000e+00  0.00000000e+00  2.45047660e-02]\n",
      " [ 0.00000000e+00  5.50937318e-01 -5.50937318e-01  0.00000000e+00]\n",
      " [ 0.00000000e+00  9.29610681e-02  9.29610681e-02  0.00000000e+00]\n",
      " [ 2.45047660e-02  0.00000000e+00  0.00000000e+00  1.38777878e-17]]\n"
     ]
    }
   ],
   "source": [
    "qq.set_Pauli_basis_matrix(fully_correlated_phase_flip(qq.coef_matrix, 0.01))\n",
    "print(qq.coef_matrix)"
   ]
  },
  {
   "cell_type": "code",
   "execution_count": null,
   "metadata": {},
   "outputs": [],
   "source": []
  }
 ],
 "metadata": {
  "kernelspec": {
   "display_name": "Python 3",
   "language": "python",
   "name": "python3"
  },
  "language_info": {
   "codemirror_mode": {
    "name": "ipython",
    "version": 3
   },
   "file_extension": ".py",
   "mimetype": "text/x-python",
   "name": "python",
   "nbconvert_exporter": "python",
   "pygments_lexer": "ipython3",
   "version": "3.7.6"
  }
 },
 "nbformat": 4,
 "nbformat_minor": 2
}
