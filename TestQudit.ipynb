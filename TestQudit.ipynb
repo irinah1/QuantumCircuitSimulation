{
 "cells": [
  {
   "cell_type": "code",
   "execution_count": 1,
   "metadata": {},
   "outputs": [],
   "source": [
    "from constants import *\n",
    "from SingleQudit import *\n",
    "from SingleQuditGates import *"
   ]
  },
  {
   "cell_type": "code",
   "execution_count": 2,
   "metadata": {},
   "outputs": [
    {
     "name": "stdout",
     "output_type": "stream",
     "text": [
      "Length of vector r ist scaled to 1.\n",
      "[[0.79365079 0.3968254  0.07936508]\n",
      " [0.3968254  0.1984127  0.03968254]\n",
      " [0.07936508 0.03968254 0.00793651]]\n"
     ]
    }
   ],
   "source": [
    "q = Qudit(3,[1, 0.5, 0.1])\n",
    "print(q.get_matrix())"
   ]
  },
  {
   "cell_type": "code",
   "execution_count": 3,
   "metadata": {},
   "outputs": [
    {
     "name": "stdout",
     "output_type": "stream",
     "text": [
      "Length of vector r ist scaled to 1.\n",
      "[[0.04545455 0.04545455 0.09090909 0.18181818]\n",
      " [0.04545455 0.04545455 0.09090909 0.18181818]\n",
      " [0.09090909 0.09090909 0.18181818 0.36363636]\n",
      " [0.18181818 0.18181818 0.36363636 0.72727273]]\n"
     ]
    }
   ],
   "source": [
    "q = Qudit(4,[1, 1, 2,4])\n",
    "print(q.get_matrix())"
   ]
  },
  {
   "cell_type": "code",
   "execution_count": 4,
   "metadata": {},
   "outputs": [
    {
     "name": "stdout",
     "output_type": "stream",
     "text": [
      "Length of vector r ist scaled to 1.\n",
      "[[8.53553390e-01 3.53553391e-01 9.23879532e-06]\n",
      " [3.53553391e-01 1.46446610e-01 3.82683433e-06]\n",
      " [9.23879532e-06 3.82683433e-06 1.00000000e-10]]\n"
     ]
    }
   ],
   "source": [
    "q = Qudit(3,[np.sqrt(0.85355339),np.sqrt(0.14644661), 0.00001])\n",
    "print(q.get_matrix())"
   ]
  },
  {
   "cell_type": "code",
   "execution_count": 5,
   "metadata": {},
   "outputs": [
    {
     "data": {
      "text/plain": [
       "matrix([[1.46446610e-01+0.j, 3.53553391e-01+0.j, 3.82683433e-06+0.j],\n",
       "        [3.53553391e-01+0.j, 8.53553390e-01+0.j, 9.23879532e-06+0.j],\n",
       "        [3.82683433e-06+0.j, 9.23879532e-06+0.j, 1.00000000e-10+0.j]])"
      ]
     },
     "execution_count": 5,
     "metadata": {},
     "output_type": "execute_result"
    }
   ],
   "source": [
    "q._set_matrix(X_gate(q.get_matrix()))\n",
    "q.get_matrix()"
   ]
  },
  {
   "cell_type": "code",
   "execution_count": 6,
   "metadata": {},
   "outputs": [
    {
     "data": {
      "text/plain": [
       "matrix([[ 8.53553390e-01+0.00000000e+00j,\n",
       "         -3.53553391e-01+0.00000000e+00j,\n",
       "          0.00000000e+00-9.23879532e-06j],\n",
       "        [-3.53553391e-01+0.00000000e+00j,\n",
       "          1.46446610e-01+0.00000000e+00j,\n",
       "          0.00000000e+00+3.82683433e-06j],\n",
       "        [ 0.00000000e+00+9.23879532e-06j,\n",
       "          0.00000000e+00-3.82683433e-06j,\n",
       "          1.00000000e-10+0.00000000e+00j]])"
      ]
     },
     "execution_count": 6,
     "metadata": {},
     "output_type": "execute_result"
    }
   ],
   "source": [
    "q._set_matrix(Y_gate(q.get_matrix()))\n",
    "q.get_matrix()"
   ]
  },
  {
   "cell_type": "code",
   "execution_count": 7,
   "metadata": {},
   "outputs": [
    {
     "data": {
      "text/plain": [
       "matrix([[8.53553390e-01+0.00000000e+00j, 3.53553391e-01+0.00000000e+00j,\n",
       "         0.00000000e+00-9.23879532e-06j],\n",
       "        [3.53553391e-01+0.00000000e+00j, 1.46446610e-01+0.00000000e+00j,\n",
       "         0.00000000e+00-3.82683433e-06j],\n",
       "        [0.00000000e+00+9.23879532e-06j, 0.00000000e+00+3.82683433e-06j,\n",
       "         1.00000000e-10+0.00000000e+00j]])"
      ]
     },
     "execution_count": 7,
     "metadata": {},
     "output_type": "execute_result"
    }
   ],
   "source": [
    "q._set_matrix(Z_gate(q.get_matrix()))\n",
    "q.get_matrix()"
   ]
  },
  {
   "cell_type": "code",
   "execution_count": 8,
   "metadata": {},
   "outputs": [
    {
     "data": {
      "text/plain": [
       "matrix([[8.53553391e-01+0.00000000e+00j, 3.53553390e-01+0.00000000e+00j,\n",
       "         0.00000000e+00-9.23879533e-06j],\n",
       "        [3.53553390e-01+0.00000000e+00j, 1.46446609e-01+0.00000000e+00j,\n",
       "         0.00000000e+00-3.82683432e-06j],\n",
       "        [0.00000000e+00+9.23879533e-06j, 0.00000000e+00+3.82683432e-06j,\n",
       "         1.00000000e-10+0.00000000e+00j]])"
      ]
     },
     "execution_count": 8,
     "metadata": {},
     "output_type": "execute_result"
    }
   ],
   "source": [
    "q._set_matrix(H_gate(q.get_matrix()))\n",
    "q.get_matrix()"
   ]
  },
  {
   "cell_type": "code",
   "execution_count": 9,
   "metadata": {},
   "outputs": [
    {
     "data": {
      "text/plain": [
       "matrix([[8.53553391e-01+0.00000000e+00j, 2.16489014e-17-3.53553390e-01j,\n",
       "         0.00000000e+00-9.23879533e-06j],\n",
       "        [2.16489014e-17+3.53553390e-01j, 1.46446609e-01+0.00000000e+00j,\n",
       "         3.82683432e-06-2.34326020e-22j],\n",
       "        [0.00000000e+00+9.23879533e-06j, 3.82683432e-06+2.34326020e-22j,\n",
       "         1.00000000e-10+0.00000000e+00j]])"
      ]
     },
     "execution_count": 9,
     "metadata": {},
     "output_type": "execute_result"
    }
   ],
   "source": [
    "q._set_matrix(S_gate(q.get_matrix()))\n",
    "q.get_matrix()"
   ]
  },
  {
   "cell_type": "code",
   "execution_count": 10,
   "metadata": {},
   "outputs": [
    {
     "data": {
      "text/plain": [
       "matrix([[ 8.53553391e-01+0.00000000e+00j,\n",
       "         -2.50000000e-01-2.50000000e-01j,\n",
       "          0.00000000e+00-9.23879533e-06j],\n",
       "        [-2.50000000e-01+2.50000000e-01j,\n",
       "          1.46446609e-01+3.79155734e-18j,\n",
       "          2.70598049e-06+2.70598049e-06j],\n",
       "        [ 0.00000000e+00+9.23879533e-06j,\n",
       "          2.70598049e-06-2.70598049e-06j,\n",
       "          1.00000000e-10+0.00000000e+00j]])"
      ]
     },
     "execution_count": 10,
     "metadata": {},
     "output_type": "execute_result"
    }
   ],
   "source": [
    "q._set_matrix(T_gate(q.get_matrix()))\n",
    "q.get_matrix()"
   ]
  },
  {
   "cell_type": "code",
   "execution_count": 11,
   "metadata": {},
   "outputs": [
    {
     "data": {
      "text/plain": [
       "matrix([[ 7.89536887e-01+0.00000000e+00j,\n",
       "         -2.31250000e-01-2.31250000e-01j,\n",
       "          0.00000000e+00-8.88558882e-06j],\n",
       "        [-2.31250000e-01+2.31250000e-01j,\n",
       "          1.56801948e-01+3.50719054e-18j,\n",
       "          2.60252870e-06+2.60252870e-06j],\n",
       "        [ 0.00000000e+00+8.88558882e-06j,\n",
       "          2.60252870e-06-2.60252870e-06j,\n",
       "          5.36611653e-02+2.84366801e-19j]])"
      ]
     },
     "execution_count": 11,
     "metadata": {},
     "output_type": "execute_result"
    }
   ],
   "source": [
    "q._set_matrix(amplitude_damping(q.get_matrix(), [0.025, 0.05, 0.075]))\n",
    "q.get_matrix()"
   ]
  },
  {
   "cell_type": "code",
   "execution_count": 12,
   "metadata": {},
   "outputs": [
    {
     "data": {
      "text/plain": [
       "matrix([[ 7.15949315e-01+2.84366801e-20j,\n",
       "         -2.08125000e-01-2.08124111e-01j,\n",
       "          2.60252870e-07-8.25728281e-06j],\n",
       "        [-2.08125000e-01+2.08124111e-01j,\n",
       "          2.20075442e-01+3.15647149e-18j,\n",
       "         -2.31226577e-02-2.31226577e-02j],\n",
       "        [ 2.60252870e-07+8.25728281e-06j,\n",
       "         -2.31226577e-02+2.31226577e-02j,\n",
       "          6.39752436e-02+6.06649175e-19j]])"
      ]
     },
     "execution_count": 12,
     "metadata": {},
     "output_type": "execute_result"
    }
   ],
   "source": [
    "q._set_matrix(general_bit_flip(q.get_matrix(), 0.1))\n",
    "q.get_matrix()"
   ]
  },
  {
   "cell_type": "code",
   "execution_count": 13,
   "metadata": {},
   "outputs": [
    {
     "data": {
      "text/plain": [
       "matrix([[ 7.15949315e-01+2.84366801e-20j,\n",
       "         -1.94930326e-01-1.58881341e-01j,\n",
       "          9.36316608e-07-6.99615183e-06j],\n",
       "        [-1.94930326e-01+1.58881341e-01j,\n",
       "          2.20075442e-01+3.58146162e-18j,\n",
       "         -2.16567399e-02-1.76517781e-02j],\n",
       "        [ 9.36316608e-07+6.99615183e-06j,\n",
       "         -2.16567399e-02+1.76517781e-02j,\n",
       "          6.39752436e-02+7.03842653e-19j]])"
      ]
     },
     "execution_count": 13,
     "metadata": {},
     "output_type": "execute_result"
    }
   ],
   "source": [
    "q._set_matrix(general_phase_flip(q.get_matrix(), 0.1))\n",
    "q.get_matrix()"
   ]
  },
  {
   "cell_type": "code",
   "execution_count": 14,
   "metadata": {},
   "outputs": [
    {
     "data": {
      "text/plain": [
       "matrix([[ 6.77687716e-01+2.46898179e-19j,\n",
       "         -1.75437294e-01-1.42993207e-01j,\n",
       "          8.42684947e-07-6.29653664e-06j],\n",
       "        [-1.75437294e-01+1.42993207e-01j,\n",
       "          2.31401231e-01+3.44462062e-18j,\n",
       "         -1.94910659e-02-1.58866003e-02j],\n",
       "        [ 8.42684947e-07+6.29653664e-06j,\n",
       "         -1.94910659e-02+1.58866003e-02j,\n",
       "          9.09110526e-02+8.54763555e-19j]])"
      ]
     },
     "execution_count": 14,
     "metadata": {},
     "output_type": "execute_result"
    }
   ],
   "source": [
    "q._set_matrix(depolarization(q.get_matrix(), 0.1))\n",
    "q.get_matrix()"
   ]
  },
  {
   "cell_type": "code",
   "execution_count": 15,
   "metadata": {},
   "outputs": [
    {
     "data": {
      "text/plain": [
       "matrix([[ 0.63305907+9.26251578e-19j, -0.15829483-1.26211580e-01j,\n",
       "         -0.00361095-2.23486425e-02j],\n",
       "        [-0.15829483+1.26211580e-01j,  0.21735221+3.45913476e-18j,\n",
       "         -0.01754146-1.42983281e-02j],\n",
       "        [-0.00361095+2.23486425e-02j, -0.01754146+1.42983281e-02j,\n",
       "          0.14958872+7.93977017e-19j]])"
      ]
     },
     "execution_count": 15,
     "metadata": {},
     "output_type": "execute_result"
    }
   ],
   "source": [
    "q._set_matrix(single_Weyl_channel(q.get_matrix(), 2, 1, 0.1))\n",
    "q.get_matrix()"
   ]
  },
  {
   "cell_type": "code",
   "execution_count": 16,
   "metadata": {},
   "outputs": [
    {
     "data": {
      "text/plain": [
       "matrix([[ 0.63305907+9.26251578e-19j, -0.02464983+4.59353340e-02j,\n",
       "          0.0058282 +1.18925728e-04j],\n",
       "        [-0.02464983-4.59353340e-02j,  0.21735221-3.65520129e-19j,\n",
       "         -0.00281065+5.10476658e-03j],\n",
       "        [ 0.0058282 -1.18925728e-04j, -0.00281065-5.10476658e-03j,\n",
       "          0.14958872+1.65879593e-18j]])"
      ]
     },
     "execution_count": 16,
     "metadata": {},
     "output_type": "execute_result"
    }
   ],
   "source": [
    "q._set_matrix(general_phase_damping(q.get_matrix(), 0.1))\n",
    "q.get_matrix()"
   ]
  },
  {
   "cell_type": "code",
   "execution_count": 17,
   "metadata": {},
   "outputs": [
    {
     "data": {
      "text/plain": [
       "matrix([[ 0.63305907+9.26251578e-19j, -0.02230409+4.15640090e-02j,\n",
       "          0.00390676+7.97182993e-05j],\n",
       "        [-0.02230409-4.15640090e-02j,  0.21735221-3.65520129e-19j,\n",
       "         -0.00254318+4.61898381e-03j],\n",
       "        [ 0.00390676-7.97182993e-05j, -0.00254318-4.61898381e-03j,\n",
       "          0.14958872+1.65879593e-18j]])"
      ]
     },
     "execution_count": 17,
     "metadata": {},
     "output_type": "execute_result"
    }
   ],
   "source": [
    "q._set_matrix(physical_phase_damping(q.get_matrix(), 0.1))\n",
    "q.get_matrix()"
   ]
  },
  {
   "cell_type": "code",
   "execution_count": 18,
   "metadata": {},
   "outputs": [
    {
     "data": {
      "text/plain": [
       "numpy.matrix"
      ]
     },
     "execution_count": 18,
     "metadata": {},
     "output_type": "execute_result"
    }
   ],
   "source": [
    "type(X(3))"
   ]
  },
  {
   "cell_type": "code",
   "execution_count": 19,
   "metadata": {},
   "outputs": [
    {
     "data": {
      "text/plain": [
       "matrix([[0.+0.j, 0.+0.j, 1.+0.j],\n",
       "        [1.+0.j, 0.+0.j, 0.+0.j],\n",
       "        [0.+0.j, 1.+0.j, 0.+0.j]])"
      ]
     },
     "execution_count": 19,
     "metadata": {},
     "output_type": "execute_result"
    }
   ],
   "source": [
    "X(3)"
   ]
  },
  {
   "cell_type": "code",
   "execution_count": 20,
   "metadata": {},
   "outputs": [
    {
     "data": {
      "text/plain": [
       "matrix([[ 1. +0.j       ,  0. +0.j       ,  0. +0.j       ],\n",
       "        [ 0. +0.j       , -0.5+0.8660254j,  0. +0.j       ],\n",
       "        [ 0. +0.j       ,  0. +0.j       , -0.5-0.8660254j]])"
      ]
     },
     "execution_count": 20,
     "metadata": {},
     "output_type": "execute_result"
    }
   ],
   "source": [
    "Z(3)"
   ]
  },
  {
   "cell_type": "code",
   "execution_count": null,
   "metadata": {},
   "outputs": [],
   "source": []
  }
 ],
 "metadata": {
  "kernelspec": {
   "display_name": "Python 3",
   "language": "python",
   "name": "python3"
  },
  "language_info": {
   "codemirror_mode": {
    "name": "ipython",
    "version": 3
   },
   "file_extension": ".py",
   "mimetype": "text/x-python",
   "name": "python",
   "nbconvert_exporter": "python",
   "pygments_lexer": "ipython3",
   "version": "3.7.6"
  }
 },
 "nbformat": 4,
 "nbformat_minor": 4
}
