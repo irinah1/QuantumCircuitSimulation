{
 "cells": [
  {
   "cell_type": "code",
   "execution_count": 2,
   "metadata": {},
   "outputs": [],
   "source": [
    "from constants import *\n",
    "from TwoQubits import *\n",
    "from TwoQubitGates import *\n",
    "from helper_functions_2Qubits import *\n",
    "from QuantumFourierTransform import *"
   ]
  },
  {
   "cell_type": "code",
   "execution_count": 3,
   "metadata": {},
   "outputs": [],
   "source": [
    "vec1 = np.matrix([0.5,0.5,0])\n",
    "vec2 = np.matrix([1,0,0])\n",
    "density1 = vec1.H*vec1\n",
    "density2 = vec2.H*vec2\n",
    "two_qudit_density = np.kron(density1, density2)"
   ]
  },
  {
   "cell_type": "code",
   "execution_count": 4,
   "metadata": {},
   "outputs": [
    {
     "name": "stdout",
     "output_type": "stream",
     "text": [
      "[[0.25 0.   0.   0.25 0.   0.   0.   0.   0.  ]\n",
      " [0.   0.   0.   0.   0.   0.   0.   0.   0.  ]\n",
      " [0.   0.   0.   0.   0.   0.   0.   0.   0.  ]\n",
      " [0.25 0.   0.   0.25 0.   0.   0.   0.   0.  ]\n",
      " [0.   0.   0.   0.   0.   0.   0.   0.   0.  ]\n",
      " [0.   0.   0.   0.   0.   0.   0.   0.   0.  ]\n",
      " [0.   0.   0.   0.   0.   0.   0.   0.   0.  ]\n",
      " [0.   0.   0.   0.   0.   0.   0.   0.   0.  ]\n",
      " [0.   0.   0.   0.   0.   0.   0.   0.   0.  ]]\n"
     ]
    }
   ],
   "source": [
    "# define qubits q1 and q2\n",
    "print(two_qudit_density)"
   ]
  },
  {
   "cell_type": "code",
   "execution_count": 5,
   "metadata": {},
   "outputs": [],
   "source": [
    "#leaked_noisy_QFT_circuit(two_qudit_density)"
   ]
  },
  {
   "cell_type": "code",
   "execution_count": 6,
   "metadata": {},
   "outputs": [],
   "source": [
    "#get_qudit_gate_from_list(two_qudit_density, 1, 0.1)"
   ]
  },
  {
   "cell_type": "code",
   "execution_count": 18,
   "metadata": {},
   "outputs": [
    {
     "name": "stdout",
     "output_type": "stream",
     "text": [
      "0 0 0\n",
      "0 0 1\n",
      "0 0 2\n",
      "0 0 3\n",
      "0 0 4\n",
      "0 1 0\n",
      "0 1 1\n",
      "0 1 2\n",
      "0 1 3\n",
      "0 1 4\n",
      "0 2 0\n",
      "0 2 1\n",
      "0 2 2\n",
      "0 2 3\n",
      "0 2 4\n",
      "0 3 0\n",
      "0 3 1\n",
      "0 3 2\n",
      "0 3 3\n",
      "0 3 4\n",
      "0 4 0\n",
      "0 4 1\n",
      "0 4 2\n",
      "0 4 3\n",
      "0 4 4\n",
      "1 0 0\n",
      "1 0 1\n",
      "1 0 2\n",
      "1 0 3\n",
      "1 0 4\n",
      "1 1 0\n",
      "1 1 1\n",
      "1 1 2\n",
      "1 1 3\n",
      "1 1 4\n",
      "1 2 0\n",
      "1 2 1\n",
      "1 2 2\n",
      "1 2 3\n",
      "1 2 4\n",
      "1 3 0\n",
      "1 3 1\n",
      "1 3 2\n",
      "1 3 3\n",
      "1 3 4\n",
      "1 4 0\n",
      "1 4 1\n",
      "1 4 2\n",
      "1 4 3\n",
      "1 4 4\n",
      "2 0 0\n",
      "2 0 1\n",
      "2 0 2\n",
      "2 0 3\n",
      "2 0 4\n",
      "2 1 0\n",
      "2 1 1\n",
      "2 1 2\n",
      "2 1 3\n",
      "2 1 4\n",
      "2 2 0\n",
      "2 2 1\n",
      "2 2 2\n",
      "2 2 3\n",
      "2 2 4\n",
      "2 3 0\n",
      "2 3 1\n",
      "2 3 2\n",
      "2 3 3\n",
      "2 3 4\n",
      "2 4 0\n",
      "2 4 1\n",
      "2 4 2\n",
      "2 4 3\n",
      "2 4 4\n",
      "3 0 0\n",
      "3 0 1\n",
      "3 0 2\n",
      "3 0 3\n",
      "3 0 4\n",
      "3 1 0\n",
      "3 1 1\n",
      "3 1 2\n",
      "3 1 3\n",
      "3 1 4\n",
      "3 2 0\n",
      "3 2 1\n",
      "3 2 2\n",
      "3 2 3\n",
      "3 2 4\n",
      "3 3 0\n",
      "3 3 1\n",
      "3 3 2\n",
      "3 3 3\n",
      "3 3 4\n",
      "3 4 0\n",
      "3 4 1\n",
      "3 4 2\n",
      "3 4 3\n",
      "3 4 4\n",
      "4 0 0\n",
      "4 0 1\n",
      "4 0 2\n",
      "4 0 3\n",
      "4 0 4\n",
      "4 1 0\n",
      "4 1 1\n",
      "4 1 2\n",
      "4 1 3\n",
      "4 1 4\n",
      "4 2 0\n",
      "4 2 1\n",
      "4 2 2\n",
      "4 2 3\n",
      "4 2 4\n",
      "4 3 0\n",
      "4 3 1\n",
      "4 3 2\n",
      "4 3 3\n",
      "4 3 4\n",
      "4 4 0\n",
      "4 4 1\n",
      "4 4 2\n",
      "4 4 3\n",
      "4 4 4\n",
      "(0.0005744267473547173-8.13820889964428e-19j) (7.352622234929206+0j)\n"
     ]
    }
   ],
   "source": [
    "qudit_dim = 3\n",
    "error_mats = []\n",
    "for x1 in range(5):\n",
    "    for y1 in range(5):\n",
    "        for z1 in range(5):\n",
    "            print(x1, y1, z1)\n",
    "            for x2 in range(5):\n",
    "                for y2 in range(5):\n",
    "                    for z2 in range(5):\n",
    "                        if (x1+y1+z1)!=0 and (x2+y2+z2!=0):\n",
    "                            scale1 = 1/np.sqrt(x1**2+y1**2+z1**2)\n",
    "                            scale2 = 1/np.sqrt(x2**2+y2**2+z2**2)\n",
    "                            qq = TwoQubits([scale1*x1,scale1*y1,scale1*z1],[scale2*x2,scale2*y2,scale2*z2])\n",
    "                            ideal_case = ideal_QFT_circuit(qq.coef_matrix)\n",
    "                            ideal_case = get_rho_from_Pauli_basis(ideal_case)\n",
    "                            ideal_qudit = np.asmatrix(np.zeros((qudit_dim**2,qudit_dim**2), dtype=complex))\n",
    "                            ideal_qudit[0,0] = ideal_case[0,0]\n",
    "                            ideal_qudit[0,1] = ideal_case[0,1]\n",
    "                            ideal_qudit[1,0] = ideal_case[1,0]\n",
    "                            ideal_qudit[1,1] = ideal_case[1,1]\n",
    "                            ideal_qudit[0,qudit_dim] = ideal_case[0,2]\n",
    "                            ideal_qudit[0,qudit_dim+1] = ideal_case[0,3]\n",
    "                            ideal_qudit[qudit_dim,0] = ideal_case[2,0]\n",
    "                            ideal_qudit[qudit_dim+1,0] = ideal_case[3,0]\n",
    "                            ideal_qudit[1,qudit_dim] = ideal_case[1,2]\n",
    "                            ideal_qudit[1,qudit_dim+1] = ideal_case[1,3]\n",
    "                            ideal_qudit[qudit_dim,1] = ideal_case[2,1]\n",
    "                            ideal_qudit[qudit_dim+1,1] = ideal_case[3,1]\n",
    "                            ideal_qudit[qudit_dim,qudit_dim] = ideal_case[2,2]\n",
    "                            ideal_qudit[qudit_dim,qudit_dim+1] = ideal_case[2,3]\n",
    "                            ideal_qudit[qudit_dim+1,qudit_dim] = ideal_case[3,2]\n",
    "                            ideal_qudit[qudit_dim+1,qudit_dim+1] = ideal_case[3,3]\n",
    "                            for i in range(100):\n",
    "                                start_qudit = qq.get_matrix()\n",
    "                                two_qudit_density = np.asmatrix(np.zeros((qudit_dim**2,qudit_dim**2), dtype=complex))\n",
    "                                two_qudit_density[0,0] = start_qudit[0,0]\n",
    "                                two_qudit_density[0,1] = start_qudit[0,1]\n",
    "                                two_qudit_density[1,0] = start_qudit[1,0]\n",
    "                                two_qudit_density[1,1] = start_qudit[1,1]\n",
    "                                two_qudit_density[0,qudit_dim] = start_qudit[0,2]\n",
    "                                two_qudit_density[0,qudit_dim+1] = start_qudit[0,3]\n",
    "                                two_qudit_density[qudit_dim,0] = start_qudit[2,0]\n",
    "                                two_qudit_density[qudit_dim+1,0] = start_qudit[3,0]\n",
    "                                two_qudit_density[1,qudit_dim] = start_qudit[1,2]\n",
    "                                two_qudit_density[1,qudit_dim+1] = start_qudit[1,3]\n",
    "                                two_qudit_density[qudit_dim,1] = start_qudit[2,1]\n",
    "                                two_qudit_density[qudit_dim+1,1] = start_qudit[3,1]\n",
    "                                two_qudit_density[qudit_dim,qudit_dim] = start_qudit[2,2]\n",
    "                                two_qudit_density[qudit_dim,qudit_dim+1] = start_qudit[2,3]\n",
    "                                two_qudit_density[qudit_dim+1,qudit_dim] = start_qudit[3,2]\n",
    "                                two_qudit_density[qudit_dim+1,qudit_dim+1] = start_qudit[3,3]\n",
    "                                noisy_case = leaked_noisy_QFT_circuit(two_qudit_density, 200+x1-y2+y1*z1*x2+z2+i, 27261549*i)\n",
    "                                error_mats.append(noisy_case-ideal_qudit)\n",
    "error_mats = np.array(error_mats)\n",
    "print(np.average(np.average(error_mats, axis=0)), np.max(error_mats))\n",
    "    "
   ]
  },
  {
   "cell_type": "code",
   "execution_count": 19,
   "metadata": {},
   "outputs": [],
   "source": [
    "#(0.16406368989226933+6.938893903907228e-18j) (14.99825480095495-1.90604437716577e-20j)\n",
    "avg_mat = np.average(error_mats, axis=0)"
   ]
  },
  {
   "cell_type": "code",
   "execution_count": 20,
   "metadata": {},
   "outputs": [
    {
     "data": {
      "text/plain": [
       "array([[ 1.75556855e-01-4.07644548e-20j, -4.48274635e-02-5.34512116e-02j,\n",
       "         2.14034977e-04-1.61353079e-04j, -1.66047428e-01-3.73132728e-02j,\n",
       "        -6.75547884e-02-2.36075151e-01j, -1.37878293e-04+1.65156302e-04j,\n",
       "         5.99074373e-05+8.73074902e-05j, -3.84040194e-05+2.76377976e-04j,\n",
       "         2.65206104e-07-3.22902361e-05j],\n",
       "       [-4.48274635e-02+5.34512116e-02j,  2.61558298e-01+1.79379953e-20j,\n",
       "         1.14398297e-04-4.03021264e-04j,  2.51323022e-02+3.50827413e-02j,\n",
       "        -2.74057991e-02-6.62142907e-02j, -1.79954549e-04+2.74535131e-04j,\n",
       "         3.64326843e-05+1.62121024e-05j, -5.31988050e-06+2.58183876e-04j,\n",
       "        -7.91622632e-05-3.52362070e-05j],\n",
       "       [ 2.14034977e-04+1.61353079e-04j,  1.14398297e-04+4.03021264e-04j,\n",
       "         2.35596900e-03+2.48249641e-23j,  1.07196544e-04-7.26436296e-04j,\n",
       "         3.87833558e-04-4.94336621e-04j,  1.20059909e-04+7.00687129e-05j,\n",
       "         3.43336894e-05-8.69991605e-05j, -1.02753097e-04+1.93701212e-04j,\n",
       "         2.59293206e-05-2.45696915e-05j],\n",
       "       [-1.66047428e-01+3.73132728e-02j,  2.51323022e-02-3.50827413e-02j,\n",
       "         1.07196544e-04+7.26436296e-04j,  1.96613441e-01-5.26081072e-20j,\n",
       "        -6.43784287e-02-7.02031937e-02j,  1.15099304e-04+4.05945929e-04j,\n",
       "        -1.41090668e-04+3.52133475e-04j, -4.47336704e-05+1.34015264e-04j,\n",
       "         2.43807327e-06+3.21023262e-05j],\n",
       "       [-6.75547884e-02+2.36075151e-01j, -2.74057991e-02+6.62142907e-02j,\n",
       "         3.87833558e-04+4.94336621e-04j, -6.43784287e-02+7.02031937e-02j,\n",
       "         8.70257225e-02+5.30186188e-20j,  1.41650180e-04+5.25555137e-05j,\n",
       "         7.07105993e-04+1.79126747e-04j,  3.33738471e-04+2.20505905e-04j,\n",
       "        -7.05168995e-05+8.99689972e-05j],\n",
       "       [-1.37878293e-04-1.65156302e-04j, -1.79954549e-04-2.74535131e-04j,\n",
       "         1.20059909e-04-7.00687129e-05j,  1.15099304e-04-4.05945929e-04j,\n",
       "         1.41650180e-04-5.25555137e-05j,  3.02801230e-03-2.61859280e-22j,\n",
       "        -2.14579324e-04+1.66120098e-04j,  4.48127408e-04-1.04088129e-04j,\n",
       "         1.07355999e-05-1.37420333e-05j],\n",
       "       [ 5.99074373e-05-8.73074902e-05j,  3.64326843e-05-1.62121024e-05j,\n",
       "         3.43336894e-05+8.69991605e-05j, -1.41090668e-04-3.52133475e-04j,\n",
       "         7.07105993e-04-1.79126747e-04j, -2.14579324e-04-1.66120098e-04j,\n",
       "         3.17586331e-03-6.63530298e-23j,  1.29392019e-04+2.17539174e-05j,\n",
       "         2.60290321e-05-5.03514196e-05j],\n",
       "       [-3.84040194e-05-2.76377976e-04j, -5.31988050e-06-2.58183876e-04j,\n",
       "        -1.02753097e-04-1.93701212e-04j, -4.47336704e-05-1.34015264e-04j,\n",
       "         3.33738471e-04-2.20505905e-04j,  4.48127408e-04+1.04088129e-04j,\n",
       "         1.29392019e-04-2.17539174e-05j,  2.82686840e-03-2.59259997e-22j,\n",
       "        -5.44064372e-05+1.05254957e-04j],\n",
       "       [ 2.65206104e-07+3.22902361e-05j, -7.91622632e-05+3.52362070e-05j,\n",
       "         2.59293206e-05+2.45696915e-05j,  2.43807327e-06-3.21023262e-05j,\n",
       "        -7.05168995e-05-8.99689972e-05j,  1.07355999e-05+1.37420333e-05j,\n",
       "         2.60290321e-05+5.03514196e-05j, -5.44064372e-05-1.05254957e-04j,\n",
       "         6.58931190e-04+2.59885853e-23j]])"
      ]
     },
     "execution_count": 20,
     "metadata": {},
     "output_type": "execute_result"
    }
   ],
   "source": [
    "avg_mat"
   ]
  },
  {
   "cell_type": "code",
   "execution_count": 21,
   "metadata": {},
   "outputs": [
    {
     "data": {
      "image/png": "[encoded data removed]",
      "text/plain": [
       "<Figure size 432x432 with 2 Axes>"
      ]
     },
     "metadata": {
      "needs_background": "light"
     },
     "output_type": "display_data"
    }
   ],
   "source": [
    "import matplotlib.pyplot as plt\n",
    "plt.figure(figsize=(6,6))\n",
    "plt.imshow(np.real(avg_mat))\n",
    "plt.colorbar(orientation='vertical').ax.tick_params(labelsize=23)\n",
    "plt.ylabel('y',fontsize=35)\n",
    "plt.xlabel('x',fontsize=35)\n",
    "plt.yticks([0, 1, 2, 3, 4, 5, 6, 7, 8, 9], [0, 1, 2, 3, 4, 5, 6, 7, 8, 9],fontsize=30)\n",
    "plt.xticks([0, 1, 2, 3, 4, 5, 6, 7, 8, 9], [0, 1, 2, 3, 4, 5, 6, 7, 8, 9],fontsize=30)\n",
    "plt.show()"
   ]
  },
  {
   "cell_type": "code",
   "execution_count": 22,
   "metadata": {},
   "outputs": [
    {
     "data": {
      "image/png": "[encoded data removed]",
      "text/plain": [
       "<Figure size 432x432 with 2 Axes>"
      ]
     },
     "metadata": {
      "needs_background": "light"
     },
     "output_type": "display_data"
    }
   ],
   "source": [
    "import matplotlib.pyplot as plt\n",
    "plt.figure(figsize=(6,6))\n",
    "plt.imshow(np.imag(avg_mat))\n",
    "plt.colorbar(orientation='vertical').ax.tick_params(labelsize=23)\n",
    "plt.ylabel('y',fontsize=35)\n",
    "plt.xlabel('x',fontsize=35)\n",
    "plt.yticks([0, 1, 2, 3, 4, 5, 6, 7, 8, 9], [0, 1, 2, 3, 4, 5, 6, 7, 8, 9],fontsize=30)\n",
    "plt.xticks([0, 1, 2, 3, 4, 5, 6, 7, 8, 9], [0, 1, 2, 3, 4, 5, 6, 7, 8, 9],fontsize=30)\n",
    "plt.show()"
   ]
  },
  {
   "cell_type": "code",
   "execution_count": null,
   "metadata": {},
   "outputs": [],
   "source": []
  }
 ],
 "metadata": {
  "kernelspec": {
   "display_name": "Python 3",
   "language": "python",
   "name": "python3"
  },
  "language_info": {
   "codemirror_mode": {
    "name": "ipython",
    "version": 3
   },
   "file_extension": ".py",
   "mimetype": "text/x-python",
   "name": "python",
   "nbconvert_exporter": "python",
   "pygments_lexer": "ipython3",
   "version": "3.7.6"
  }
 },
 "nbformat": 4,
 "nbformat_minor": 2
}
